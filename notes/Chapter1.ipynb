{
 "cells": [
  {
   "cell_type": "markdown",
   "metadata": {},
   "source": [
    "# Chapter 1: The Role of Algorithms in Computing"
   ]
  },
  {
   "cell_type": "markdown",
   "metadata": {},
   "source": [
    "### Problems\n",
    "\n",
    "#### Comparison of running times  \n",
    "\n",
    "For each function f(n) and time t, determine the largest size n of a problem that can be solved in time t, assuming the algorithm solves the problem in f(n) microseconds.\n",
    "\n",
    "| f(n) \\ t | 1 second | 1 minute | 1 hour | 1 day | 1 month | 1 year | 1 century |\n",
    "| --- | --- | --- | --- | --- | --- | --- | --- |\n",
    "| **lg n** |\n",
    "| **sqrt(n)** |\n",
    "| **n** |\n",
    "| **n lg n** |\n",
    "| **n^2** |\n",
    "| **n^3** |\n",
    "| **2^n** |\n",
    "| **n!** |"
   ]
  },
  {
   "cell_type": "code",
   "execution_count": 1,
   "metadata": {},
   "outputs": [],
   "source": [
    "import matplotlib.pyplot as plt\n",
    "%matplotlib inline"
   ]
  },
  {
   "cell_type": "code",
   "execution_count": null,
   "metadata": {},
   "outputs": [],
   "source": []
  }
 ],
 "metadata": {
  "kernelspec": {
   "display_name": "Python 3",
   "language": "python",
   "name": "python3"
  },
  "language_info": {
   "codemirror_mode": {
    "name": "ipython",
    "version": 3
   },
   "file_extension": ".py",
   "mimetype": "text/x-python",
   "name": "python",
   "nbconvert_exporter": "python",
   "pygments_lexer": "ipython3",
   "version": "3.7.1"
  }
 },
 "nbformat": 4,
 "nbformat_minor": 2
}
